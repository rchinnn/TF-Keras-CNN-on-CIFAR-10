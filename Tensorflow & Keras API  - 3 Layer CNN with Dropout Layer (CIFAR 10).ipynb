version https://git-lfs.github.com/spec/v1
oid sha256:f5e04b9eaeb1e6be5081020aa959baf64c1d20d2992080ce9e8db0319ac2848c
size 29538
