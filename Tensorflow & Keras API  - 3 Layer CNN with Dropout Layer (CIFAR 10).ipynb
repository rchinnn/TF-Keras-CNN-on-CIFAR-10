version https://git-lfs.github.com/spec/v1
oid sha256:87f11cf6ce9623f3621536177827418443efd292f6b0c2fd603ffa3899cfa6a1
size 107797
