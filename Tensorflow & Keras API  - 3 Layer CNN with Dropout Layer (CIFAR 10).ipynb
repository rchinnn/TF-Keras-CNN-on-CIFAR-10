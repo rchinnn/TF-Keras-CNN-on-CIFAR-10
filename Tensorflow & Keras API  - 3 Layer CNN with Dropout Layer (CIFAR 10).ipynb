version https://git-lfs.github.com/spec/v1
oid sha256:37eabfd7f2b9e7c32f610fd4b445e30b35aa158710c807186ec3aad1092be49a
size 48646
